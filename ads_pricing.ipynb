{
 "cells": [
  {
   "cell_type": "markdown",
   "metadata": {},
   "source": [
    "# ORIE 5355/INFO 5370 HW 3: Algorithmic Pricing"
   ]
  },
  {
   "cell_type": "markdown",
   "metadata": {},
   "source": [
    " - Name: Horizon Hou\n",
    " - Net-id: rh553\n",
    " - Date: 10/17/2022\n",
    " - Late days used for this assignment: 0\n",
    " - Total late days used (counting this assignment): 1\n",
    " - People with whom you discussed this assignment: "
   ]
  },
  {
   "cell_type": "markdown",
   "metadata": {},
   "source": [
    "After you finish the homework, please complete the following (short, anonymous) post-homework survey: https://forms.gle/N2hdk8B4r7TF1RDG6 and include the survey completion code below."
   ]
  },
  {
   "cell_type": "markdown",
   "metadata": {},
   "source": [
    "### Question 0 [1 point]\n",
    "<font color='blue'> Survey completion code: hw3_2021xyz"
   ]
  },
  {
   "cell_type": "markdown",
   "metadata": {},
   "source": [
    "We have marked questions in <font color='blue'> blue </font>. Please put answers in black (do not change colors). You'll want to write text answers in \"markdown\" mode instead of code. In Jupyter notebook, you can go to Cell > Cell Type > Markdown, from the menu. Please carefully read the late days policy and grading procedure [here](https://orie5355.github.io/Fall_2021/assignments/). "
   ]
  },
  {
   "cell_type": "markdown",
   "metadata": {},
   "source": [
    "# Conceptual component [4 points]"
   ]
  },
  {
   "cell_type": "markdown",
   "metadata": {},
   "source": [
    "Please complete the following pricing ethics scenario questionaire: https://forms.gle/dLq7mC32ft1NrhK69, and include the survey completion code below. **We will discuss these issues in class most likely on 10/5 (Exact date to be announced). You must complete the questionaire before the day of that class, even if you turn in the rest of the homework later. The questionaire will close the morning of the class that we discuss these issues.**"
   ]
  },
  {
   "cell_type": "markdown",
   "metadata": {},
   "source": [
    "<font color='blue'> Survey completion code: "
   ]
  },
  {
   "cell_type": "markdown",
   "metadata": {},
   "source": [
    "hw3_pricingethics_2021"
   ]
  },
  {
   "cell_type": "markdown",
   "metadata": {},
   "source": [
    "<font color='blue'> Survey completion code: Based on the first letter of your first name, explain your answers to the following questions, in at most three sentences each."
   ]
  },
  {
   "cell_type": "markdown",
   "metadata": {},
   "source": [
    "First letter A-C: 1, 6, 11, 16\n",
    "\n",
    "First letter D-H: 2, 7, 12, 17\n",
    "\n",
    "First letter I-M: 3, 8, 13, 18\n",
    "\n",
    "First letter N-S: 4, 9, 14, 19\n",
    "\n",
    "First letter T-Z: 5, 10, 15, 20\n"
   ]
  },
  {
   "cell_type": "markdown",
   "metadata": {},
   "source": [
    "<font color='blue'> Be prepared to discuss your answers to at least these questions in class (I might randomly call on people), but you should also be willing/able to discuss your answers to other questions. "
   ]
  },
  {
   "cell_type": "markdown",
   "metadata": {},
   "source": [
    "2. A convenience store has been selling umbrellas for 5. Whenever it starts raining, the store raises the price to 8."
   ]
  },
  {
   "cell_type": "markdown",
   "metadata": {},
   "source": [
    "I believe this is completely fair because when the weather is rainy, the demand curve for umbrella shift to the right. While supply remains the same, the price equilibrium increases. So it is completely fair for convenience store to raise the price of umbrella to the new equilibrium."
   ]
  },
  {
   "cell_type": "markdown",
   "metadata": {},
   "source": [
    "7. A small factory produces tables and sells all that it can make at 200 each. Because of changes in the price of materials, the cost of making each table has recently decreased by 40. The factory reduces its price for the tables by only 20. "
   ]
  },
  {
   "cell_type": "markdown",
   "metadata": {},
   "source": [
    "I believe this is acceptable, because the decrease of cost is on the same material, and the quality of the table remains the same. The small factory do decrease the price by 20, which makes the benefit from cheaper material is shared half and half by the factory and the customers. I believe it is accepatble to split the benefit by half."
   ]
  },
  {
   "cell_type": "markdown",
   "metadata": {},
   "source": [
    "12. A business in a community with high unemployment needs to hire a new computer programmer. Four candidates are judged to be completely qualified for the job. The manager asks the candidates to state the lowest salary they would be willing to accept, and then hires the one who demands the lowest salary. *"
   ]
  },
  {
   "cell_type": "markdown",
   "metadata": {},
   "source": [
    "I believe this is unfair, because salary negotiation should be fair, and based on each side's interest. However, asking candidates to provide lowest salary and compare between those candidates generate unbalanced information between candidates and the company, and it acts like the company is treating candidates as commodities, which is unfair."
   ]
  },
  {
   "cell_type": "markdown",
   "metadata": {},
   "source": [
    "17. On Uber/Lyft, drivers have to drive longer to pick up the passengers in certain suburbs or neighborhoods,  because they tend to be farther away. Is it acceptable for them to charge more to passengers from these neighborhoods? *"
   ]
  },
  {
   "cell_type": "markdown",
   "metadata": {},
   "source": [
    "I believe this is acceptable, because the cost for those drivers to pick up passengers in certain suburbs or neighborhoods is higher, so it is accepatable to charge more. However, the price should only be increased if there is no available cars nearby. If there is available cars nearby, it is not fair to ask more money only based on the physical location of the neighborhood."
   ]
  },
  {
   "cell_type": "markdown",
   "metadata": {},
   "source": [
    "# Programming component"
   ]
  },
  {
   "cell_type": "markdown",
   "metadata": {},
   "source": [
    "## Helper code"
   ]
  },
  {
   "cell_type": "code",
   "execution_count": 1,
   "metadata": {},
   "outputs": [],
   "source": [
    "import numpy as np\n",
    "import pandas as pd\n",
    "import os, sys, math\n",
    "import matplotlib.pyplot as plt"
   ]
  },
  {
   "cell_type": "code",
   "execution_count": 396,
   "metadata": {},
   "outputs": [],
   "source": [
    "df_train = pd.read_csv('HW3_data_train.csv')\n",
    "test_demand_curve = pd.read_csv('test_demand.csv')"
   ]
  },
  {
   "cell_type": "code",
   "execution_count": 3,
   "metadata": {},
   "outputs": [
    {
     "data": {
      "text/html": [
       "<div>\n",
       "<style scoped>\n",
       "    .dataframe tbody tr th:only-of-type {\n",
       "        vertical-align: middle;\n",
       "    }\n",
       "\n",
       "    .dataframe tbody tr th {\n",
       "        vertical-align: top;\n",
       "    }\n",
       "\n",
       "    .dataframe thead th {\n",
       "        text-align: right;\n",
       "    }\n",
       "</style>\n",
       "<table border=\"1\" class=\"dataframe\">\n",
       "  <thead>\n",
       "    <tr style=\"text-align: right;\">\n",
       "      <th></th>\n",
       "      <th>Location</th>\n",
       "      <th>Income</th>\n",
       "      <th>Offered price</th>\n",
       "      <th>Purchased</th>\n",
       "    </tr>\n",
       "  </thead>\n",
       "  <tbody>\n",
       "    <tr>\n",
       "      <th>0</th>\n",
       "      <td>Africa</td>\n",
       "      <td>10.38</td>\n",
       "      <td>3.16</td>\n",
       "      <td>False</td>\n",
       "    </tr>\n",
       "    <tr>\n",
       "      <th>1</th>\n",
       "      <td>Europe</td>\n",
       "      <td>26.33</td>\n",
       "      <td>3.47</td>\n",
       "      <td>True</td>\n",
       "    </tr>\n",
       "    <tr>\n",
       "      <th>2</th>\n",
       "      <td>Europe</td>\n",
       "      <td>24.06</td>\n",
       "      <td>3.78</td>\n",
       "      <td>True</td>\n",
       "    </tr>\n",
       "    <tr>\n",
       "      <th>3</th>\n",
       "      <td>Africa</td>\n",
       "      <td>16.18</td>\n",
       "      <td>3.74</td>\n",
       "      <td>False</td>\n",
       "    </tr>\n",
       "    <tr>\n",
       "      <th>4</th>\n",
       "      <td>Asia Pacific</td>\n",
       "      <td>13.73</td>\n",
       "      <td>4.75</td>\n",
       "      <td>False</td>\n",
       "    </tr>\n",
       "  </tbody>\n",
       "</table>\n",
       "</div>"
      ],
      "text/plain": [
       "       Location  Income  Offered price  Purchased\n",
       "0        Africa   10.38           3.16      False\n",
       "1        Europe   26.33           3.47       True\n",
       "2        Europe   24.06           3.78       True\n",
       "3        Africa   16.18           3.74      False\n",
       "4  Asia Pacific   13.73           4.75      False"
      ]
     },
     "execution_count": 3,
     "metadata": {},
     "output_type": "execute_result"
    }
   ],
   "source": [
    "df_train.head()"
   ]
  },
  {
   "cell_type": "code",
   "execution_count": 4,
   "metadata": {},
   "outputs": [
    {
     "data": {
      "text/plain": [
       "((4000, 4), (199, 5))"
      ]
     },
     "execution_count": 4,
     "metadata": {},
     "output_type": "execute_result"
    }
   ],
   "source": [
    "df_train.shape, test_demand_curve.shape"
   ]
  },
  {
   "cell_type": "markdown",
   "metadata": {},
   "source": [
    "## Problem 1: Demand estimation and pricing without covariates"
   ]
  },
  {
   "cell_type": "markdown",
   "metadata": {},
   "source": [
    "First, we will use the training data to construct estimates of the demand at each price without leveraging the covariates, and then use that estimated function to calculate optimal prices. "
   ]
  },
  {
   "cell_type": "code",
   "execution_count": null,
   "metadata": {},
   "outputs": [],
   "source": []
  },
  {
   "cell_type": "markdown",
   "metadata": {},
   "source": [
    "### 1a) Naive method: empirical estimate of demand $d(p)$ at each price"
   ]
  },
  {
   "cell_type": "markdown",
   "metadata": {},
   "source": [
    "<font color='blue'> Fill in the below function, that takes in a dataframe and the number of bins into which to separate the historical prices. The function should output a dataframe that has one row for each price bin, with two columns: the bin interval, and the estimated demand $d(p)$ (the fraction of potential customers who purchase at price $p$) in that bin.  \n",
    "    \n",
    "Use the following function to create bins:\n",
    "https://pandas.pydata.org/pandas-docs/stable/reference/api/pandas.qcut.html"
   ]
  },
  {
   "cell_type": "code",
   "execution_count": 5,
   "metadata": {
    "tags": []
   },
   "outputs": [
    {
     "data": {
      "text/html": [
       "<div>\n",
       "<style scoped>\n",
       "    .dataframe tbody tr th:only-of-type {\n",
       "        vertical-align: middle;\n",
       "    }\n",
       "\n",
       "    .dataframe tbody tr th {\n",
       "        vertical-align: top;\n",
       "    }\n",
       "\n",
       "    .dataframe thead th {\n",
       "        text-align: right;\n",
       "    }\n",
       "</style>\n",
       "<table border=\"1\" class=\"dataframe\">\n",
       "  <thead>\n",
       "    <tr style=\"text-align: right;\">\n",
       "      <th></th>\n",
       "      <th>Location</th>\n",
       "      <th>Income</th>\n",
       "      <th>Offered price</th>\n",
       "      <th>Purchased</th>\n",
       "      <th>bin_with_10_bins</th>\n",
       "    </tr>\n",
       "  </thead>\n",
       "  <tbody>\n",
       "    <tr>\n",
       "      <th>0</th>\n",
       "      <td>Africa</td>\n",
       "      <td>10.38</td>\n",
       "      <td>3.16</td>\n",
       "      <td>False</td>\n",
       "      <td>(2.95, 3.54]</td>\n",
       "    </tr>\n",
       "    <tr>\n",
       "      <th>1</th>\n",
       "      <td>Europe</td>\n",
       "      <td>26.33</td>\n",
       "      <td>3.47</td>\n",
       "      <td>True</td>\n",
       "      <td>(2.95, 3.54]</td>\n",
       "    </tr>\n",
       "    <tr>\n",
       "      <th>2</th>\n",
       "      <td>Europe</td>\n",
       "      <td>24.06</td>\n",
       "      <td>3.78</td>\n",
       "      <td>True</td>\n",
       "      <td>(3.54, 4.19]</td>\n",
       "    </tr>\n",
       "    <tr>\n",
       "      <th>3</th>\n",
       "      <td>Africa</td>\n",
       "      <td>16.18</td>\n",
       "      <td>3.74</td>\n",
       "      <td>False</td>\n",
       "      <td>(3.54, 4.19]</td>\n",
       "    </tr>\n",
       "    <tr>\n",
       "      <th>4</th>\n",
       "      <td>Asia Pacific</td>\n",
       "      <td>13.73</td>\n",
       "      <td>4.75</td>\n",
       "      <td>False</td>\n",
       "      <td>(4.19, 4.77]</td>\n",
       "    </tr>\n",
       "  </tbody>\n",
       "</table>\n",
       "</div>"
      ],
      "text/plain": [
       "       Location  Income  Offered price  Purchased bin_with_10_bins\n",
       "0        Africa   10.38           3.16      False     (2.95, 3.54]\n",
       "1        Europe   26.33           3.47       True     (2.95, 3.54]\n",
       "2        Europe   24.06           3.78       True     (3.54, 4.19]\n",
       "3        Africa   16.18           3.74      False     (3.54, 4.19]\n",
       "4  Asia Pacific   13.73           4.75      False     (4.19, 4.77]"
      ]
     },
     "execution_count": 5,
     "metadata": {},
     "output_type": "execute_result"
    }
   ],
   "source": [
    "# Example with 10 bins:\n",
    "df_train['bin_with_10_bins'] = pd.qcut(df_train['Offered price'], 10)\n",
    "df_train.head()"
   ]
  },
  {
   "attachments": {
    "ac4e165a-3e02-4d40-a8cc-ef8591ad8e7e.png": {
     "image/png": "[encoded data removed]"
    }
   },
   "cell_type": "markdown",
   "metadata": {},
   "source": [
    "For example, with 2 bins and passing in df_train to the function, you should see the following output:\n",
    "\n",
    "![image.png](attachment:ac4e165a-3e02-4d40-a8cc-ef8591ad8e7e.png)"
   ]
  },
  {
   "cell_type": "code",
   "execution_count": 37,
   "metadata": {},
   "outputs": [],
   "source": [
    "def create_empirical_estimate_demand_df(df, number_of_pricing_bins):\n",
    "    df_train_bins = df.copy()\n",
    "    my_bins = str('bin_with_'+str(number_of_pricing_bins)+'_bins')\n",
    "    df_train_bins[my_bins] = pd.qcut(df_train['Offered price'], number_of_pricing_bins)\n",
    "    df_train_bins['Purchased_numeric'] = np.where(df_train_bins['Purchased']==True, 1, 0)\n",
    "    my_demand = df_train_bins.groupby(my_bins).sum()['Purchased_numeric']/df_train_bins.groupby(my_bins).count()['Purchased_numeric']\n",
    "    my_demand = pd.DataFrame(my_demand)\n",
    "    my_demand = my_demand.reset_index()\n",
    "    my_demand.columns = ['Price_bin','Demand_at_price']\n",
    "    \n",
    "    return my_demand"
   ]
  },
  {
   "cell_type": "code",
   "execution_count": 38,
   "metadata": {},
   "outputs": [
    {
     "data": {
      "text/plain": [
       "bin_with_10_bins\n",
       "(0.499, 1.05]    0.931373\n",
       "(1.05, 1.66]     0.795970\n",
       "(1.66, 2.29]     0.591584\n",
       "(2.29, 2.95]     0.398477\n",
       "(2.95, 3.54]     0.190476\n",
       "(3.54, 4.19]     0.115000\n",
       "(4.19, 4.77]     0.054591\n",
       "(4.77, 5.36]     0.050505\n",
       "(5.36, 5.91]     0.024691\n",
       "(5.91, 6.5]      0.005076\n",
       "Name: Purchased, dtype: float64"
      ]
     },
     "execution_count": 38,
     "metadata": {},
     "output_type": "execute_result"
    }
   ],
   "source": [
    "df_train.groupby('bin_with_10_bins').sum()['Purchased']/df_train.groupby('bin_with_10_bins').count()['Purchased']"
   ]
  },
  {
   "cell_type": "code",
   "execution_count": 39,
   "metadata": {},
   "outputs": [
    {
     "data": {
      "text/html": [
       "<div>\n",
       "<style scoped>\n",
       "    .dataframe tbody tr th:only-of-type {\n",
       "        vertical-align: middle;\n",
       "    }\n",
       "\n",
       "    .dataframe tbody tr th {\n",
       "        vertical-align: top;\n",
       "    }\n",
       "\n",
       "    .dataframe thead th {\n",
       "        text-align: right;\n",
       "    }\n",
       "</style>\n",
       "<table border=\"1\" class=\"dataframe\">\n",
       "  <thead>\n",
       "    <tr style=\"text-align: right;\">\n",
       "      <th></th>\n",
       "      <th>Price_bin</th>\n",
       "      <th>Demand_at_price</th>\n",
       "    </tr>\n",
       "  </thead>\n",
       "  <tbody>\n",
       "    <tr>\n",
       "      <th>0</th>\n",
       "      <td>(0.499, 1.05]</td>\n",
       "      <td>0.931373</td>\n",
       "    </tr>\n",
       "    <tr>\n",
       "      <th>1</th>\n",
       "      <td>(1.05, 1.66]</td>\n",
       "      <td>0.795970</td>\n",
       "    </tr>\n",
       "    <tr>\n",
       "      <th>2</th>\n",
       "      <td>(1.66, 2.29]</td>\n",
       "      <td>0.591584</td>\n",
       "    </tr>\n",
       "    <tr>\n",
       "      <th>3</th>\n",
       "      <td>(2.29, 2.95]</td>\n",
       "      <td>0.398477</td>\n",
       "    </tr>\n",
       "    <tr>\n",
       "      <th>4</th>\n",
       "      <td>(2.95, 3.54]</td>\n",
       "      <td>0.190476</td>\n",
       "    </tr>\n",
       "    <tr>\n",
       "      <th>5</th>\n",
       "      <td>(3.54, 4.19]</td>\n",
       "      <td>0.115000</td>\n",
       "    </tr>\n",
       "    <tr>\n",
       "      <th>6</th>\n",
       "      <td>(4.19, 4.77]</td>\n",
       "      <td>0.054591</td>\n",
       "    </tr>\n",
       "    <tr>\n",
       "      <th>7</th>\n",
       "      <td>(4.77, 5.36]</td>\n",
       "      <td>0.050505</td>\n",
       "    </tr>\n",
       "    <tr>\n",
       "      <th>8</th>\n",
       "      <td>(5.36, 5.91]</td>\n",
       "      <td>0.024691</td>\n",
       "    </tr>\n",
       "    <tr>\n",
       "      <th>9</th>\n",
       "      <td>(5.91, 6.5]</td>\n",
       "      <td>0.005076</td>\n",
       "    </tr>\n",
       "  </tbody>\n",
       "</table>\n",
       "</div>"
      ],
      "text/plain": [
       "       Price_bin  Demand_at_price\n",
       "0  (0.499, 1.05]         0.931373\n",
       "1   (1.05, 1.66]         0.795970\n",
       "2   (1.66, 2.29]         0.591584\n",
       "3   (2.29, 2.95]         0.398477\n",
       "4   (2.95, 3.54]         0.190476\n",
       "5   (3.54, 4.19]         0.115000\n",
       "6   (4.19, 4.77]         0.054591\n",
       "7   (4.77, 5.36]         0.050505\n",
       "8   (5.36, 5.91]         0.024691\n",
       "9    (5.91, 6.5]         0.005076"
      ]
     },
     "execution_count": 39,
     "metadata": {},
     "output_type": "execute_result"
    }
   ],
   "source": [
    "create_empirical_estimate_demand_df(df_train, 10)"
   ]
  },
  {
   "cell_type": "code",
   "execution_count": 401,
   "metadata": {},
   "outputs": [
    {
     "data": {
      "text/html": [
       "<div>\n",
       "<style scoped>\n",
       "    .dataframe tbody tr th:only-of-type {\n",
       "        vertical-align: middle;\n",
       "    }\n",
       "\n",
       "    .dataframe tbody tr th {\n",
       "        vertical-align: top;\n",
       "    }\n",
       "\n",
       "    .dataframe thead th {\n",
       "        text-align: right;\n",
       "    }\n",
       "</style>\n",
       "<table border=\"1\" class=\"dataframe\">\n",
       "  <thead>\n",
       "    <tr style=\"text-align: right;\">\n",
       "      <th></th>\n",
       "      <th>Price_bin</th>\n",
       "      <th>Demand_at_price</th>\n",
       "    </tr>\n",
       "  </thead>\n",
       "  <tbody>\n",
       "    <tr>\n",
       "      <th>0</th>\n",
       "      <td>(0.499, 3.54]</td>\n",
       "      <td>0.583417</td>\n",
       "    </tr>\n",
       "    <tr>\n",
       "      <th>1</th>\n",
       "      <td>(3.54, 6.5]</td>\n",
       "      <td>0.050050</td>\n",
       "    </tr>\n",
       "  </tbody>\n",
       "</table>\n",
       "</div>"
      ],
      "text/plain": [
       "       Price_bin  Demand_at_price\n",
       "0  (0.499, 3.54]         0.583417\n",
       "1    (3.54, 6.5]         0.050050"
      ]
     },
     "execution_count": 401,
     "metadata": {},
     "output_type": "execute_result"
    }
   ],
   "source": [
    "create_empirical_estimate_demand_df(df_train, 2)"
   ]
  },
  {
   "cell_type": "markdown",
   "metadata": {},
   "source": [
    "<font color='blue'> Fill in the below function, that takes in a single price and your empirical df from the above function and outputs the prediction for the demand $d(p)$ at that price. For example, with 2 bins, at price = 3 the function should output 0.583417.\n",
    "\n",
    "If the price is lower than the smallest bin, then use the value of the smallest bin. If it is higher than the highest bin, use the value of the highest bin."
   ]
  },
  {
   "cell_type": "code",
   "execution_count": 411,
   "metadata": {},
   "outputs": [],
   "source": [
    "def get_prediction_empirical(empirical_df, price):\n",
    "    my_pred = 0\n",
    "    for i in range(len(empirical_df)):\n",
    "        if price in empirical_df['Price_bin'][i]:\n",
    "            my_pred = empirical_df['Demand_at_price'][i]\n",
    "    if price <= 0.499:\n",
    "        my_pred = empirical_df['Demand_at_price'][0]\n",
    "    if price > 6.5:\n",
    "        my_pred = empirical_df['Demand_at_price'][len(empirical_df)-1]\n",
    "    return my_pred"
   ]
  },
  {
   "cell_type": "code",
   "execution_count": 412,
   "metadata": {},
   "outputs": [
    {
     "data": {
      "text/plain": [
       "0.5834165834165834"
      ]
     },
     "execution_count": 412,
     "metadata": {},
     "output_type": "execute_result"
    }
   ],
   "source": [
    "get_prediction_empirical(create_empirical_estimate_demand_df(df_train, 2), 3)"
   ]
  },
  {
   "cell_type": "code",
   "execution_count": 413,
   "metadata": {},
   "outputs": [
    {
     "data": {
      "text/plain": [
       "pandas._libs.interval.Interval"
      ]
     },
     "execution_count": 413,
     "metadata": {},
     "output_type": "execute_result"
    }
   ],
   "source": [
    "my_df = create_empirical_estimate_demand_df(df_train, 10)\n",
    "type(my_df['Price_bin'][0])\n",
    "#1 < my_df['Price_bin'][0].min()"
   ]
  },
  {
   "cell_type": "code",
   "execution_count": 414,
   "metadata": {},
   "outputs": [],
   "source": [
    "prices_to_predict = np.linspace(min(df_train['Offered price']), max(df_train['Offered price']), 200)"
   ]
  },
  {
   "cell_type": "markdown",
   "metadata": {},
   "source": [
    "<font color='blue'> Plot in a single figure the outputs of your function as a line plot -- where the X axis corresponds to prices in `prices_to_predict` and the Y axis the predicted Demand at that price -- for the following three inputs to the function:\n",
    "    \n",
    "    1. the dataframe is the first 100 rows of df_train, with 10 bins.\n",
    "    \n",
    "    2. the dataframe is the first 500 rows of df_train, with 10 bins.\n",
    "    \n",
    "    3. the dataframe is all the rows of df_train, with 10 bins.\n",
    "\n",
    "<font color='blue'> In the same figure, include the \"true\" test-time demand curve, `test_demand_curve` -- plot the mid-point of each bin on the X axis, and the demand for that bin on the Y axis. So your plot will contain 4 curves in total.\n"
   ]
  },
  {
   "cell_type": "code",
   "execution_count": 419,
   "metadata": {},
   "outputs": [],
   "source": [
    "df1 = create_empirical_estimate_demand_df(df_train.iloc[0:100], 10)\n",
    "df2 = create_empirical_estimate_demand_df(df_train.iloc[0:500], 10)\n",
    "df3 = create_empirical_estimate_demand_df(df_train, 10)"
   ]
  },
  {
   "cell_type": "code",
   "execution_count": 420,
   "metadata": {},
   "outputs": [],
   "source": [
    "my_pred1 = []\n",
    "my_pred2 = []\n",
    "my_pred3 = []"
   ]
  },
  {
   "cell_type": "code",
   "execution_count": 421,
   "metadata": {},
   "outputs": [],
   "source": [
    "for p in range(len(prices_to_predict)):\n",
    "    my_pred1.append(get_prediction_empirical(df1, prices_to_predict[p]))\n",
    "    my_pred2.append(get_prediction_empirical(df2, prices_to_predict[p]))\n",
    "    my_pred3.append(get_prediction_empirical(df3, prices_to_predict[p]))"
   ]
  },
  {
   "cell_type": "code",
   "execution_count": 422,
   "metadata": {},
   "outputs": [
    {
     "data": {
      "image/png": "[encoded data removed]",
      "text/plain": [
       "<Figure size 432x288 with 1 Axes>"
      ]
     },
     "metadata": {
      "needs_background": "light"
     },
     "output_type": "display_data"
    }
   ],
   "source": [
    "plt.plot(prices_to_predict, my_pred1, color = 'red')\n",
    "plt.plot(prices_to_predict, my_pred2, color = 'orange')\n",
    "plt.plot(prices_to_predict, my_pred3, color = 'green')\n",
    "plt.plot(test_demand_curve['Price_bin_mid'], test_demand_curve['Demand_at_price'], color = 'blue')\n",
    "plt.xlabel('price')\n",
    "plt.ylabel('demand')\n",
    "plt.legend(['100 rows', '500 rows', 'all', 'test'])\n",
    "plt.show()"
   ]
  },
  {
   "cell_type": "code",
   "execution_count": 410,
   "metadata": {
    "scrolled": true
   },
   "outputs": [
    {
     "data": {
      "text/html": [
       "<div>\n",
       "<style scoped>\n",
       "    .dataframe tbody tr th:only-of-type {\n",
       "        vertical-align: middle;\n",
       "    }\n",
       "\n",
       "    .dataframe tbody tr th {\n",
       "        vertical-align: top;\n",
       "    }\n",
       "\n",
       "    .dataframe thead th {\n",
       "        text-align: right;\n",
       "    }\n",
       "</style>\n",
       "<table border=\"1\" class=\"dataframe\">\n",
       "  <thead>\n",
       "    <tr style=\"text-align: right;\">\n",
       "      <th></th>\n",
       "      <th>Price_bin</th>\n",
       "      <th>Demand_at_price</th>\n",
       "      <th>Price_bin_left</th>\n",
       "      <th>Price_bin_right</th>\n",
       "      <th>Price_bin_mid</th>\n",
       "    </tr>\n",
       "  </thead>\n",
       "  <tbody>\n",
       "    <tr>\n",
       "      <th>0</th>\n",
       "      <td>(0.5, 0.53]</td>\n",
       "      <td>0.985075</td>\n",
       "      <td>0.500</td>\n",
       "      <td>0.530</td>\n",
       "      <td>0.5150</td>\n",
       "    </tr>\n",
       "    <tr>\n",
       "      <th>1</th>\n",
       "      <td>(0.53, 0.56]</td>\n",
       "      <td>0.966102</td>\n",
       "      <td>0.530</td>\n",
       "      <td>0.560</td>\n",
       "      <td>0.5450</td>\n",
       "    </tr>\n",
       "    <tr>\n",
       "      <th>2</th>\n",
       "      <td>(0.56, 0.59]</td>\n",
       "      <td>0.963768</td>\n",
       "      <td>0.560</td>\n",
       "      <td>0.590</td>\n",
       "      <td>0.5750</td>\n",
       "    </tr>\n",
       "    <tr>\n",
       "      <th>3</th>\n",
       "      <td>(0.59, 0.621]</td>\n",
       "      <td>0.963235</td>\n",
       "      <td>0.590</td>\n",
       "      <td>0.621</td>\n",
       "      <td>0.6055</td>\n",
       "    </tr>\n",
       "    <tr>\n",
       "      <th>4</th>\n",
       "      <td>(0.621, 0.651]</td>\n",
       "      <td>0.956522</td>\n",
       "      <td>0.621</td>\n",
       "      <td>0.651</td>\n",
       "      <td>0.6360</td>\n",
       "    </tr>\n",
       "  </tbody>\n",
       "</table>\n",
       "</div>"
      ],
      "text/plain": [
       "        Price_bin  Demand_at_price  Price_bin_left  Price_bin_right  \\\n",
       "0     (0.5, 0.53]         0.985075           0.500            0.530   \n",
       "1    (0.53, 0.56]         0.966102           0.530            0.560   \n",
       "2    (0.56, 0.59]         0.963768           0.560            0.590   \n",
       "3   (0.59, 0.621]         0.963235           0.590            0.621   \n",
       "4  (0.621, 0.651]         0.956522           0.621            0.651   \n",
       "\n",
       "   Price_bin_mid  \n",
       "0         0.5150  \n",
       "1         0.5450  \n",
       "2         0.5750  \n",
       "3         0.6055  \n",
       "4         0.6360  "
      ]
     },
     "execution_count": 410,
     "metadata": {},
     "output_type": "execute_result"
    }
   ],
   "source": [
    "test_demand_curve.head()"
   ]
  },
  {
   "cell_type": "markdown",
   "metadata": {},
   "source": [
    "<font color='blue'> Do the same plot, except now you're using 50 bins for each of the three data frames."
   ]
  },
  {
   "cell_type": "code",
   "execution_count": 317,
   "metadata": {},
   "outputs": [
    {
     "data": {
      "image/png": "[encoded data removed]",
      "text/plain": [
       "<Figure size 432x288 with 1 Axes>"
      ]
     },
     "metadata": {
      "needs_background": "light"
     },
     "output_type": "display_data"
    }
   ],
   "source": [
    "df1 = create_empirical_estimate_demand_df(df_train[0:100], 50)\n",
    "df2 = create_empirical_estimate_demand_df(df_train[0:500], 50)\n",
    "df3 = create_empirical_estimate_demand_df(df_train, 50)\n",
    "\n",
    "my_pred1 = []\n",
    "my_pred2 = []\n",
    "my_pred3 = []\n",
    "\n",
    "for p in prices_to_predict:\n",
    "    my_pred1.append(get_prediction_empirical(df1, p))\n",
    "    my_pred2.append(get_prediction_empirical(df2, p))\n",
    "    my_pred3.append(get_prediction_empirical(df3, p))\n",
    "    \n",
    "plt.plot(prices_to_predict, my_pred1, color = 'red')\n",
    "plt.plot(prices_to_predict, my_pred2, color = 'orange')\n",
    "plt.plot(prices_to_predict, my_pred3, color = 'green')\n",
    "plt.plot(test_demand_curve['Price_bin_mid'], test_demand_curve['Demand_at_price'], color = 'blue')\n",
    "plt.xlabel('price')\n",
    "plt.ylabel('demand')\n",
    "plt.legend(['100 rows', '500 rows', 'all', 'test'])\n",
    "plt.show()"
   ]
  },
  {
   "cell_type": "markdown",
   "metadata": {},
   "source": [
    "<font color='blue'> Comment on your output in no more than 3 sentences. What is the effect of using more data and more bins?"
   ]
  },
  {
   "cell_type": "markdown",
   "metadata": {},
   "source": [
    "If we use more data associates with more bins, our prediction is going to be more close to the true demand curve. However, if we use a small amount of data and a large number of bins, our prediction will flactuate a lot and become inaccurate because there are only a little samples are in each bin."
   ]
  },
  {
   "cell_type": "markdown",
   "metadata": {},
   "source": [
    "### 1b) Demand estimation using logistic regression"
   ]
  },
  {
   "cell_type": "markdown",
   "metadata": {},
   "source": [
    "<font color='blue'> First, Fill in the below function that fits a logistic regression to predict the probability of purchase at a price ($d(p)$). The logistic regression should just have two coefficients: one for the intercept, and one for the price. The function takes in a dataframe that you will use as your training data for your model, and should return your fitted model. "
   ]
  },
  {
   "cell_type": "code",
   "execution_count": 332,
   "metadata": {},
   "outputs": [],
   "source": [
    "from sklearn.linear_model import LogisticRegression\n",
    "from sklearn import preprocessing"
   ]
  },
  {
   "cell_type": "code",
   "execution_count": 333,
   "metadata": {},
   "outputs": [],
   "source": [
    "def fit_logistic_regression_demand_just_on_price(df):\n",
    "    X = df['Offered price']\n",
    "    Y = df['Purchased']\n",
    "    X = np.array(X).reshape(-1, 1)\n",
    "    model = LogisticRegression(fit_intercept=True)\n",
    "    model.fit(X, Y)\n",
    "    \n",
    "    return model"
   ]
  },
  {
   "cell_type": "code",
   "execution_count": 334,
   "metadata": {},
   "outputs": [
    {
     "data": {
      "text/plain": [
       "array([0, 1, 1, ..., 1, 0, 0])"
      ]
     },
     "execution_count": 334,
     "metadata": {},
     "output_type": "execute_result"
    }
   ],
   "source": [
    "np.where(df_train['Purchased']==True,1,0)"
   ]
  },
  {
   "cell_type": "code",
   "execution_count": 335,
   "metadata": {},
   "outputs": [
    {
     "data": {
      "text/html": [
       "<div>\n",
       "<style scoped>\n",
       "    .dataframe tbody tr th:only-of-type {\n",
       "        vertical-align: middle;\n",
       "    }\n",
       "\n",
       "    .dataframe tbody tr th {\n",
       "        vertical-align: top;\n",
       "    }\n",
       "\n",
       "    .dataframe thead th {\n",
       "        text-align: right;\n",
       "    }\n",
       "</style>\n",
       "<table border=\"1\" class=\"dataframe\">\n",
       "  <thead>\n",
       "    <tr style=\"text-align: right;\">\n",
       "      <th></th>\n",
       "      <th>Location</th>\n",
       "      <th>Income</th>\n",
       "      <th>Offered price</th>\n",
       "      <th>Purchased</th>\n",
       "      <th>bin_with_10_bins</th>\n",
       "      <th>is_America</th>\n",
       "      <th>wealth_status</th>\n",
       "    </tr>\n",
       "  </thead>\n",
       "  <tbody>\n",
       "    <tr>\n",
       "      <th>0</th>\n",
       "      <td>Africa</td>\n",
       "      <td>10.38</td>\n",
       "      <td>3.16</td>\n",
       "      <td>False</td>\n",
       "      <td>(2.95, 3.54]</td>\n",
       "      <td>0</td>\n",
       "      <td>1</td>\n",
       "    </tr>\n",
       "    <tr>\n",
       "      <th>1</th>\n",
       "      <td>Europe</td>\n",
       "      <td>26.33</td>\n",
       "      <td>3.47</td>\n",
       "      <td>True</td>\n",
       "      <td>(2.95, 3.54]</td>\n",
       "      <td>0</td>\n",
       "      <td>1</td>\n",
       "    </tr>\n",
       "    <tr>\n",
       "      <th>2</th>\n",
       "      <td>Europe</td>\n",
       "      <td>24.06</td>\n",
       "      <td>3.78</td>\n",
       "      <td>True</td>\n",
       "      <td>(3.54, 4.19]</td>\n",
       "      <td>0</td>\n",
       "      <td>1</td>\n",
       "    </tr>\n",
       "    <tr>\n",
       "      <th>3</th>\n",
       "      <td>Africa</td>\n",
       "      <td>16.18</td>\n",
       "      <td>3.74</td>\n",
       "      <td>False</td>\n",
       "      <td>(3.54, 4.19]</td>\n",
       "      <td>0</td>\n",
       "      <td>1</td>\n",
       "    </tr>\n",
       "    <tr>\n",
       "      <th>4</th>\n",
       "      <td>Asia Pacific</td>\n",
       "      <td>13.73</td>\n",
       "      <td>4.75</td>\n",
       "      <td>False</td>\n",
       "      <td>(4.19, 4.77]</td>\n",
       "      <td>0</td>\n",
       "      <td>1</td>\n",
       "    </tr>\n",
       "  </tbody>\n",
       "</table>\n",
       "</div>"
      ],
      "text/plain": [
       "       Location  Income  Offered price  Purchased bin_with_10_bins  \\\n",
       "0        Africa   10.38           3.16      False     (2.95, 3.54]   \n",
       "1        Europe   26.33           3.47       True     (2.95, 3.54]   \n",
       "2        Europe   24.06           3.78       True     (3.54, 4.19]   \n",
       "3        Africa   16.18           3.74      False     (3.54, 4.19]   \n",
       "4  Asia Pacific   13.73           4.75      False     (4.19, 4.77]   \n",
       "\n",
       "   is_America  wealth_status  \n",
       "0           0              1  \n",
       "1           0              1  \n",
       "2           0              1  \n",
       "3           0              1  \n",
       "4           0              1  "
      ]
     },
     "execution_count": 335,
     "metadata": {},
     "output_type": "execute_result"
    }
   ],
   "source": [
    "df_train.head()"
   ]
  },
  {
   "cell_type": "code",
   "execution_count": 336,
   "metadata": {},
   "outputs": [],
   "source": [
    "scaler = preprocessing.MinMaxScaler(feature_range=(-1,1))\n",
    "\n",
    "df_scaled = scaler.fit_transform(df_train[['Offered price','Income']])"
   ]
  },
  {
   "cell_type": "code",
   "execution_count": 337,
   "metadata": {},
   "outputs": [
    {
     "data": {
      "text/plain": [
       "array([[-0.11333333, -0.81018777],\n",
       "       [-0.01      , -0.51366425],\n",
       "       [ 0.09333333, -0.5558654 ],\n",
       "       ...,\n",
       "       [-0.69333333, -0.73824131],\n",
       "       [ 0.85666667, -0.2664064 ],\n",
       "       [-0.1       , -0.93344488]])"
      ]
     },
     "execution_count": 337,
     "metadata": {},
     "output_type": "execute_result"
    }
   ],
   "source": [
    "df_scaled"
   ]
  },
  {
   "cell_type": "markdown",
   "metadata": {},
   "source": [
    "<font color='blue'> Fill in the below function, that takes in a single price and your trained model and outputs the prediction for the demand $d(p)$ at that price.\n",
    "\n",
    "Note that you do not want to treat logistic regression as a binary classifier that outputs either 0 or 1. Rather, you want to get the probability of being a 1. You can extract this using the predict_proba(X) function. "
   ]
  },
  {
   "cell_type": "code",
   "execution_count": 338,
   "metadata": {},
   "outputs": [],
   "source": [
    "def get_prediction_logistic(fitted_model, price):\n",
    "    price = np.array(price).reshape(-1,1)\n",
    "    prediction = fitted_model.predict_proba(price)\n",
    "    \n",
    "    prediction = pd.DataFrame(prediction)[1]\n",
    "    return prediction"
   ]
  },
  {
   "cell_type": "markdown",
   "metadata": {},
   "source": [
    "<font color='blue'> For each of the three training dataframes as in part A, fit a model and get the predictions for each of the prices in `prices_to_predict` using your above function. Generate the same lineplot as above. Also include the \"true\" test-time demand curve, `test_demand_curve`. "
   ]
  },
  {
   "cell_type": "code",
   "execution_count": 339,
   "metadata": {},
   "outputs": [
    {
     "data": {
      "text/plain": [
       "0      0.923410\n",
       "1      0.920484\n",
       "2      0.917457\n",
       "3      0.914325\n",
       "4      0.911086\n",
       "         ...   \n",
       "195    0.004324\n",
       "196    0.004152\n",
       "197    0.003987\n",
       "198    0.003829\n",
       "199    0.003677\n",
       "Name: 1, Length: 200, dtype: float64"
      ]
     },
     "execution_count": 339,
     "metadata": {},
     "output_type": "execute_result"
    }
   ],
   "source": [
    "df1 = df_train[0:100]\n",
    "df2 = df_train[0:500]\n",
    "df3 = df_train.copy()\n",
    "\n",
    "model1 = fit_logistic_regression_demand_just_on_price(df1)\n",
    "model2 = fit_logistic_regression_demand_just_on_price(df2)\n",
    "model3 = fit_logistic_regression_demand_just_on_price(df3)\n",
    "\n",
    "prediction1 = get_prediction_logistic(model1, prices_to_predict)\n",
    "prediction2 = get_prediction_logistic(model2, prices_to_predict)\n",
    "prediction3 = get_prediction_logistic(model3, prices_to_predict)\n",
    "\n",
    "prediction1\n",
    "prediction2\n",
    "prediction3"
   ]
  },
  {
   "cell_type": "code",
   "execution_count": 340,
   "metadata": {},
   "outputs": [
    {
     "data": {
      "image/png": "[encoded data removed]",
      "text/plain": [
       "<Figure size 432x288 with 1 Axes>"
      ]
     },
     "metadata": {
      "needs_background": "light"
     },
     "output_type": "display_data"
    }
   ],
   "source": [
    "plt.plot(prices_to_predict, pd.DataFrame(prediction1), color = 'red')\n",
    "plt.plot(prices_to_predict, prediction2, color = 'orange')\n",
    "plt.plot(prices_to_predict, prediction3, color = 'green')\n",
    "plt.plot(test_demand_curve['Price_bin_mid'], test_demand_curve['Demand_at_price'], color = 'blue')\n",
    "plt.xlabel('price')\n",
    "plt.ylabel('demand')\n",
    "plt.legend(['100 rows', '500 rows', 'all', 'test'])\n",
    "plt.show()"
   ]
  },
  {
   "cell_type": "code",
   "execution_count": 341,
   "metadata": {},
   "outputs": [
    {
     "data": {
      "text/plain": [
       "0.9396783939710353"
      ]
     },
     "execution_count": 341,
     "metadata": {},
     "output_type": "execute_result"
    }
   ],
   "source": [
    "prediction1[0]"
   ]
  },
  {
   "cell_type": "markdown",
   "metadata": {},
   "source": [
    "<font color='blue'> Comment on your output in no more than 3 sentences. What is the effect of using logistic regression instead of the empirical distribution? "
   ]
  },
  {
   "cell_type": "markdown",
   "metadata": {},
   "source": [
    "Logistic regression gives us a more smooth curve than using empirical distribution. Also, it avoids predictions that with higher demand for higher price as the curve is monotonically decreasing."
   ]
  },
  {
   "cell_type": "markdown",
   "metadata": {},
   "source": [
    "### 1c) Optimal pricing using your demand estimates"
   ]
  },
  {
   "cell_type": "markdown",
   "metadata": {},
   "source": [
    "<font color='blue'> Fill in the following function that takes in two lists: a list of prices, and a list of predicted demand d(p) at that price. The function outputs the revenue maximizing price given the data and the corresponding revenue. You may use a \"brute force\" technique, that loops through all the possible prices and calculates the revenue using that price. "
   ]
  },
  {
   "cell_type": "code",
   "execution_count": 342,
   "metadata": {},
   "outputs": [],
   "source": [
    "def get_revenue_maximizing_price_and_revenue(price_options, demand_predictions):\n",
    "    all_revenue = []\n",
    "    for i in range(len(price_options)):\n",
    "        all_revenue.append(price_options[i]*demand_predictions[i])\n",
    "    max_index = np.argmax(all_revenue)\n",
    "    \n",
    "    return price_options[max_index], all_revenue[max_index]"
   ]
  },
  {
   "cell_type": "code",
   "execution_count": null,
   "metadata": {},
   "outputs": [],
   "source": []
  },
  {
   "cell_type": "markdown",
   "metadata": {},
   "source": [
    "<font color='blue'> Print out the optimal price and the predicted optimal revenue from the predictions for your naive and logistic models, using 100 rows and all the data, each. \n",
    "\n",
    "For example, we got the following (your numbers may differ slightly):\n",
    "\n",
    "logistic, 100 points:  2.580402010050251 1.2143341610705582\n",
    "\n",
    "naive, all points:  2.278894472361809 1.348157868550674"
   ]
  },
  {
   "cell_type": "code",
   "execution_count": 343,
   "metadata": {},
   "outputs": [
    {
     "data": {
      "text/plain": [
       "(2.1884422110552766, 1.4070878495510661)"
      ]
     },
     "execution_count": 343,
     "metadata": {},
     "output_type": "execute_result"
    }
   ],
   "source": [
    "# logistic 100 points\n",
    "train = df_train[0:100]\n",
    "model_log_100 = fit_logistic_regression_demand_just_on_price(train)\n",
    "prediction_log_100 = get_prediction_logistic(model_log_100, prices_to_predict)\n",
    "\n",
    "best_rev_log100 = get_revenue_maximizing_price_and_revenue(prices_to_predict, prediction_log_100)\n",
    "best_rev_log100"
   ]
  },
  {
   "cell_type": "code",
   "execution_count": 344,
   "metadata": {},
   "outputs": [
    {
     "data": {
      "text/plain": [
       "(1.9773869346733668, 1.2295480454251977)"
      ]
     },
     "execution_count": 344,
     "metadata": {},
     "output_type": "execute_result"
    }
   ],
   "source": [
    "# logistic all points\n",
    "train = df_train.copy()\n",
    "model_log_100 = fit_logistic_regression_demand_just_on_price(train)\n",
    "prediction_log_100 = get_prediction_logistic(model_log_100, prices_to_predict)\n",
    "\n",
    "best_rev_logAll = get_revenue_maximizing_price_and_revenue(prices_to_predict, prediction_log_100)\n",
    "best_rev_logAll"
   ]
  },
  {
   "cell_type": "code",
   "execution_count": 423,
   "metadata": {},
   "outputs": [
    {
     "data": {
      "text/plain": [
       "(2.278894472361809, 1.9940326633165828)"
      ]
     },
     "execution_count": 423,
     "metadata": {},
     "output_type": "execute_result"
    }
   ],
   "source": [
    "# naive 100 points\n",
    "train = df_train[0:100]\n",
    "df1 = create_empirical_estimate_demand_df(train, 10)\n",
    "\n",
    "my_pred1 = []\n",
    "\n",
    "for p in prices_to_predict:\n",
    "    my_pred1.append(get_prediction_empirical(df1, p))\n",
    "    \n",
    "best_rev_naive100 = get_revenue_maximizing_price_and_revenue(prices_to_predict, my_pred1)\n",
    "best_rev_naive100"
   ]
  },
  {
   "cell_type": "code",
   "execution_count": 346,
   "metadata": {},
   "outputs": [
    {
     "data": {
      "text/plain": [
       "(2.278894472361809, 1.348157868550674)"
      ]
     },
     "execution_count": 346,
     "metadata": {},
     "output_type": "execute_result"
    }
   ],
   "source": [
    "# naive all points\n",
    "train = df_train.copy()\n",
    "df1 = create_empirical_estimate_demand_df(train, 10)\n",
    "\n",
    "my_pred1 = []\n",
    "\n",
    "for p in prices_to_predict:\n",
    "    my_pred1.append(get_prediction_empirical(df1, p))\n",
    "    \n",
    "best_rev_naiveAll = get_revenue_maximizing_price_and_revenue(prices_to_predict, my_pred1)\n",
    "best_rev_naiveAll"
   ]
  },
  {
   "cell_type": "markdown",
   "metadata": {},
   "source": [
    "<font color='blue'> Now, we're going to use the \"true\" test-time demand curve, `test_demand_curve`. For each of the above predicted optimal prices, calculate the revenue resulting from that price used on the true demand curve. Also print out the true optimal price and corresponding revenue for that curve.  \n",
    "\n",
    "For example, we got:\n",
    "\n",
    "true revenue using logistic 100 price:  0.9729384628058323"
   ]
  },
  {
   "cell_type": "code",
   "execution_count": 347,
   "metadata": {},
   "outputs": [
    {
     "data": {
      "text/html": [
       "<div>\n",
       "<style scoped>\n",
       "    .dataframe tbody tr th:only-of-type {\n",
       "        vertical-align: middle;\n",
       "    }\n",
       "\n",
       "    .dataframe tbody tr th {\n",
       "        vertical-align: top;\n",
       "    }\n",
       "\n",
       "    .dataframe thead th {\n",
       "        text-align: right;\n",
       "    }\n",
       "</style>\n",
       "<table border=\"1\" class=\"dataframe\">\n",
       "  <thead>\n",
       "    <tr style=\"text-align: right;\">\n",
       "      <th></th>\n",
       "      <th>Price_bin</th>\n",
       "      <th>Demand_at_price</th>\n",
       "      <th>Price_bin_left</th>\n",
       "      <th>Price_bin_right</th>\n",
       "      <th>Price_bin_mid</th>\n",
       "    </tr>\n",
       "  </thead>\n",
       "  <tbody>\n",
       "    <tr>\n",
       "      <th>0</th>\n",
       "      <td>(0.5, 0.53]</td>\n",
       "      <td>0.985075</td>\n",
       "      <td>0.500</td>\n",
       "      <td>0.530</td>\n",
       "      <td>0.5150</td>\n",
       "    </tr>\n",
       "    <tr>\n",
       "      <th>1</th>\n",
       "      <td>(0.53, 0.56]</td>\n",
       "      <td>0.966102</td>\n",
       "      <td>0.530</td>\n",
       "      <td>0.560</td>\n",
       "      <td>0.5450</td>\n",
       "    </tr>\n",
       "    <tr>\n",
       "      <th>2</th>\n",
       "      <td>(0.56, 0.59]</td>\n",
       "      <td>0.963768</td>\n",
       "      <td>0.560</td>\n",
       "      <td>0.590</td>\n",
       "      <td>0.5750</td>\n",
       "    </tr>\n",
       "    <tr>\n",
       "      <th>3</th>\n",
       "      <td>(0.59, 0.621]</td>\n",
       "      <td>0.963235</td>\n",
       "      <td>0.590</td>\n",
       "      <td>0.621</td>\n",
       "      <td>0.6055</td>\n",
       "    </tr>\n",
       "    <tr>\n",
       "      <th>4</th>\n",
       "      <td>(0.621, 0.651]</td>\n",
       "      <td>0.956522</td>\n",
       "      <td>0.621</td>\n",
       "      <td>0.651</td>\n",
       "      <td>0.6360</td>\n",
       "    </tr>\n",
       "  </tbody>\n",
       "</table>\n",
       "</div>"
      ],
      "text/plain": [
       "        Price_bin  Demand_at_price  Price_bin_left  Price_bin_right  \\\n",
       "0     (0.5, 0.53]         0.985075           0.500            0.530   \n",
       "1    (0.53, 0.56]         0.966102           0.530            0.560   \n",
       "2    (0.56, 0.59]         0.963768           0.560            0.590   \n",
       "3   (0.59, 0.621]         0.963235           0.590            0.621   \n",
       "4  (0.621, 0.651]         0.956522           0.621            0.651   \n",
       "\n",
       "   Price_bin_mid  \n",
       "0         0.5150  \n",
       "1         0.5450  \n",
       "2         0.5750  \n",
       "3         0.6055  \n",
       "4         0.6360  "
      ]
     },
     "execution_count": 347,
     "metadata": {},
     "output_type": "execute_result"
    }
   ],
   "source": [
    "test_demand_curve.head()"
   ]
  },
  {
   "cell_type": "code",
   "execution_count": 348,
   "metadata": {},
   "outputs": [
    {
     "name": "stdout",
     "output_type": "stream",
     "text": [
      "true revenue using logistic 100 price: 1.141795936202753\n"
     ]
    }
   ],
   "source": [
    "# logistic 100 points\n",
    "price = best_rev_log100[0]\n",
    "true_best_rev = 0\n",
    "for i in range(len(test_demand_curve)):\n",
    "    if price > test_demand_curve['Price_bin_left'][i] and price <= test_demand_curve['Price_bin_right'][i]:\n",
    "        true_best_rev = price*test_demand_curve['Demand_at_price'][i]\n",
    "print('true revenue using logistic 100 price:', true_best_rev)"
   ]
  },
  {
   "cell_type": "code",
   "execution_count": 349,
   "metadata": {},
   "outputs": [
    {
     "name": "stdout",
     "output_type": "stream",
     "text": [
      "true revenue using logistic all price: 1.1413105797443595\n"
     ]
    }
   ],
   "source": [
    "# logistic all points\n",
    "price = best_rev_logAll[0]\n",
    "true_best_rev = 0\n",
    "for i in range(len(test_demand_curve)):\n",
    "    if price > test_demand_curve['Price_bin_left'][i] and price <= test_demand_curve['Price_bin_right'][i]:\n",
    "        true_best_rev = price*test_demand_curve['Demand_at_price'][i]\n",
    "print('true revenue using logistic all price:', true_best_rev)"
   ]
  },
  {
   "cell_type": "code",
   "execution_count": 350,
   "metadata": {},
   "outputs": [
    {
     "name": "stdout",
     "output_type": "stream",
     "text": [
      "true revenue using naive 100 price: 1.1655414476964976\n"
     ]
    }
   ],
   "source": [
    "# naive 100 points\n",
    "price = best_rev_naive100[0]\n",
    "true_best_rev = 0\n",
    "for i in range(len(test_demand_curve)):\n",
    "    if price > test_demand_curve['Price_bin_left'][i] and price <= test_demand_curve['Price_bin_right'][i]:\n",
    "        true_best_rev = price*test_demand_curve['Demand_at_price'][i]\n",
    "print('true revenue using naive 100 price:', true_best_rev)"
   ]
  },
  {
   "cell_type": "code",
   "execution_count": 351,
   "metadata": {},
   "outputs": [
    {
     "name": "stdout",
     "output_type": "stream",
     "text": [
      "true revenue using naive all price: 1.1655414476964976\n"
     ]
    }
   ],
   "source": [
    "# naive all points\n",
    "price = best_rev_naiveAll[0]\n",
    "true_best_rev = 0\n",
    "for i in range(len(test_demand_curve)):\n",
    "    if price > test_demand_curve['Price_bin_left'][i] and price <= test_demand_curve['Price_bin_right'][i]:\n",
    "        true_best_rev = price*test_demand_curve['Demand_at_price'][i]\n",
    "print('true revenue using naive all price:', true_best_rev)"
   ]
  },
  {
   "cell_type": "code",
   "execution_count": 352,
   "metadata": {},
   "outputs": [
    {
     "data": {
      "text/plain": [
       "(2.083, 1.1922434210526316)"
      ]
     },
     "execution_count": 352,
     "metadata": {},
     "output_type": "execute_result"
    }
   ],
   "source": [
    "best_rev_true = get_revenue_maximizing_price_and_revenue(test_demand_curve['Price_bin_mid'], test_demand_curve['Demand_at_price'])\n",
    "best_rev_true"
   ]
  },
  {
   "cell_type": "markdown",
   "metadata": {},
   "source": [
    "<font color='blue'> How do your estimates compare to the actual revenue? Discuss in no more than 3 sentences. "
   ]
  },
  {
   "cell_type": "markdown",
   "metadata": {},
   "source": [
    "Our estimates do not reach the true optimal revenue, but all of them are pretty close to the true optimal. Naive method out perform logistic regression by a little."
   ]
  },
  {
   "cell_type": "markdown",
   "metadata": {},
   "source": [
    "# Problem 2: Demand estimation and pricing with covariates "
   ]
  },
  {
   "cell_type": "markdown",
   "metadata": {},
   "source": [
    "Now, we are going to ask you to do personalized pricing, based on just a two binarized covariates. "
   ]
  },
  {
   "cell_type": "markdown",
   "metadata": {},
   "source": [
    "First, take `df_train` and create a new column for \"low\" and \"high\" wealth, based on if the income level is above or below the median income level. Second, create a new column for Location: `1` if the location is either America, and `0` if the location is anything else.\n",
    "\n",
    "For this section, we will use all the df_train data, as opposed to just the first few rows."
   ]
  },
  {
   "cell_type": "code",
   "execution_count": 353,
   "metadata": {},
   "outputs": [],
   "source": [
    "df_train['is_America'] = np.where(df_train['Location']=='America', 1, 0)\n",
    "df_train['wealth_status'] = np.where(df_train['Income']>= np.median(df_train['Income']), 1, 0)"
   ]
  },
  {
   "cell_type": "code",
   "execution_count": 354,
   "metadata": {
    "scrolled": true
   },
   "outputs": [
    {
     "data": {
      "text/html": [
       "<div>\n",
       "<style scoped>\n",
       "    .dataframe tbody tr th:only-of-type {\n",
       "        vertical-align: middle;\n",
       "    }\n",
       "\n",
       "    .dataframe tbody tr th {\n",
       "        vertical-align: top;\n",
       "    }\n",
       "\n",
       "    .dataframe thead th {\n",
       "        text-align: right;\n",
       "    }\n",
       "</style>\n",
       "<table border=\"1\" class=\"dataframe\">\n",
       "  <thead>\n",
       "    <tr style=\"text-align: right;\">\n",
       "      <th></th>\n",
       "      <th>Location</th>\n",
       "      <th>Income</th>\n",
       "      <th>Offered price</th>\n",
       "      <th>Purchased</th>\n",
       "      <th>bin_with_10_bins</th>\n",
       "      <th>is_America</th>\n",
       "      <th>wealth_status</th>\n",
       "    </tr>\n",
       "  </thead>\n",
       "  <tbody>\n",
       "    <tr>\n",
       "      <th>0</th>\n",
       "      <td>Africa</td>\n",
       "      <td>10.38</td>\n",
       "      <td>3.16</td>\n",
       "      <td>False</td>\n",
       "      <td>(2.95, 3.54]</td>\n",
       "      <td>0</td>\n",
       "      <td>1</td>\n",
       "    </tr>\n",
       "    <tr>\n",
       "      <th>1</th>\n",
       "      <td>Europe</td>\n",
       "      <td>26.33</td>\n",
       "      <td>3.47</td>\n",
       "      <td>True</td>\n",
       "      <td>(2.95, 3.54]</td>\n",
       "      <td>0</td>\n",
       "      <td>1</td>\n",
       "    </tr>\n",
       "    <tr>\n",
       "      <th>2</th>\n",
       "      <td>Europe</td>\n",
       "      <td>24.06</td>\n",
       "      <td>3.78</td>\n",
       "      <td>True</td>\n",
       "      <td>(3.54, 4.19]</td>\n",
       "      <td>0</td>\n",
       "      <td>1</td>\n",
       "    </tr>\n",
       "    <tr>\n",
       "      <th>3</th>\n",
       "      <td>Africa</td>\n",
       "      <td>16.18</td>\n",
       "      <td>3.74</td>\n",
       "      <td>False</td>\n",
       "      <td>(3.54, 4.19]</td>\n",
       "      <td>0</td>\n",
       "      <td>1</td>\n",
       "    </tr>\n",
       "    <tr>\n",
       "      <th>4</th>\n",
       "      <td>Asia Pacific</td>\n",
       "      <td>13.73</td>\n",
       "      <td>4.75</td>\n",
       "      <td>False</td>\n",
       "      <td>(4.19, 4.77]</td>\n",
       "      <td>0</td>\n",
       "      <td>1</td>\n",
       "    </tr>\n",
       "  </tbody>\n",
       "</table>\n",
       "</div>"
      ],
      "text/plain": [
       "       Location  Income  Offered price  Purchased bin_with_10_bins  \\\n",
       "0        Africa   10.38           3.16      False     (2.95, 3.54]   \n",
       "1        Europe   26.33           3.47       True     (2.95, 3.54]   \n",
       "2        Europe   24.06           3.78       True     (3.54, 4.19]   \n",
       "3        Africa   16.18           3.74      False     (3.54, 4.19]   \n",
       "4  Asia Pacific   13.73           4.75      False     (4.19, 4.77]   \n",
       "\n",
       "   is_America  wealth_status  \n",
       "0           0              1  \n",
       "1           0              1  \n",
       "2           0              1  \n",
       "3           0              1  \n",
       "4           0              1  "
      ]
     },
     "execution_count": 354,
     "metadata": {},
     "output_type": "execute_result"
    }
   ],
   "source": [
    "df_train.head()"
   ]
  },
  {
   "cell_type": "code",
   "execution_count": 355,
   "metadata": {},
   "outputs": [
    {
     "data": {
      "text/plain": [
       "10.34"
      ]
     },
     "execution_count": 355,
     "metadata": {},
     "output_type": "execute_result"
    }
   ],
   "source": [
    "np.median(df_train['Income'])"
   ]
  },
  {
   "cell_type": "markdown",
   "metadata": {},
   "source": [
    "### 2a) Demand estimation"
   ]
  },
  {
   "cell_type": "markdown",
   "metadata": {},
   "source": [
    "<font color='blue'> First, Fill in the below function that fits a logistic regression to predict the probability of purchase at a price ($d(p)$). The logistic regression should now have more coefficients than before: 1 for each covariate, and any interactions (including interactions between price and covariates) that you wish to add. If you add more interactions, you may wish to add regularization. "
   ]
  },
  {
   "cell_type": "code",
   "execution_count": 356,
   "metadata": {},
   "outputs": [
    {
     "data": {
      "text/html": [
       "<div>\n",
       "<style scoped>\n",
       "    .dataframe tbody tr th:only-of-type {\n",
       "        vertical-align: middle;\n",
       "    }\n",
       "\n",
       "    .dataframe tbody tr th {\n",
       "        vertical-align: top;\n",
       "    }\n",
       "\n",
       "    .dataframe thead th {\n",
       "        text-align: right;\n",
       "    }\n",
       "</style>\n",
       "<table border=\"1\" class=\"dataframe\">\n",
       "  <thead>\n",
       "    <tr style=\"text-align: right;\">\n",
       "      <th></th>\n",
       "      <th>Location</th>\n",
       "      <th>Income</th>\n",
       "      <th>Offered price</th>\n",
       "      <th>Purchased</th>\n",
       "      <th>bin_with_10_bins</th>\n",
       "      <th>is_America</th>\n",
       "      <th>wealth_status</th>\n",
       "    </tr>\n",
       "  </thead>\n",
       "  <tbody>\n",
       "    <tr>\n",
       "      <th>0</th>\n",
       "      <td>Africa</td>\n",
       "      <td>10.38</td>\n",
       "      <td>3.16</td>\n",
       "      <td>False</td>\n",
       "      <td>(2.95, 3.54]</td>\n",
       "      <td>0</td>\n",
       "      <td>1</td>\n",
       "    </tr>\n",
       "    <tr>\n",
       "      <th>1</th>\n",
       "      <td>Europe</td>\n",
       "      <td>26.33</td>\n",
       "      <td>3.47</td>\n",
       "      <td>True</td>\n",
       "      <td>(2.95, 3.54]</td>\n",
       "      <td>0</td>\n",
       "      <td>1</td>\n",
       "    </tr>\n",
       "    <tr>\n",
       "      <th>2</th>\n",
       "      <td>Europe</td>\n",
       "      <td>24.06</td>\n",
       "      <td>3.78</td>\n",
       "      <td>True</td>\n",
       "      <td>(3.54, 4.19]</td>\n",
       "      <td>0</td>\n",
       "      <td>1</td>\n",
       "    </tr>\n",
       "    <tr>\n",
       "      <th>3</th>\n",
       "      <td>Africa</td>\n",
       "      <td>16.18</td>\n",
       "      <td>3.74</td>\n",
       "      <td>False</td>\n",
       "      <td>(3.54, 4.19]</td>\n",
       "      <td>0</td>\n",
       "      <td>1</td>\n",
       "    </tr>\n",
       "    <tr>\n",
       "      <th>4</th>\n",
       "      <td>Asia Pacific</td>\n",
       "      <td>13.73</td>\n",
       "      <td>4.75</td>\n",
       "      <td>False</td>\n",
       "      <td>(4.19, 4.77]</td>\n",
       "      <td>0</td>\n",
       "      <td>1</td>\n",
       "    </tr>\n",
       "  </tbody>\n",
       "</table>\n",
       "</div>"
      ],
      "text/plain": [
       "       Location  Income  Offered price  Purchased bin_with_10_bins  \\\n",
       "0        Africa   10.38           3.16      False     (2.95, 3.54]   \n",
       "1        Europe   26.33           3.47       True     (2.95, 3.54]   \n",
       "2        Europe   24.06           3.78       True     (3.54, 4.19]   \n",
       "3        Africa   16.18           3.74      False     (3.54, 4.19]   \n",
       "4  Asia Pacific   13.73           4.75      False     (4.19, 4.77]   \n",
       "\n",
       "   is_America  wealth_status  \n",
       "0           0              1  \n",
       "1           0              1  \n",
       "2           0              1  \n",
       "3           0              1  \n",
       "4           0              1  "
      ]
     },
     "execution_count": 356,
     "metadata": {},
     "output_type": "execute_result"
    }
   ],
   "source": [
    "df_train.head()"
   ]
  },
  {
   "cell_type": "code",
   "execution_count": 357,
   "metadata": {},
   "outputs": [],
   "source": [
    "def fit_logistic_regression_demand_with_covariates(df):\n",
    "    df1 = df.copy()\n",
    "    X = df1[['Offered price', 'is_America', 'wealth_status']]\n",
    "    Y = df1['Purchased']\n",
    "    #X = np.array(X).reshape(-1, 1)\n",
    "    model = LogisticRegression(fit_intercept=True)\n",
    "    model.fit(X, Y)\n",
    "    \n",
    "    return model"
   ]
  },
  {
   "cell_type": "markdown",
   "metadata": {},
   "source": [
    "<font color='blue'> Fill in the below function, that takes in a single price, covariates, and your trained model, and outputs the prediction for the demand $d(p)$ at that price. For example, one of the covariate inputs to the function can be `['NotAmerica', 'LowWealth']`."
   ]
  },
  {
   "cell_type": "code",
   "execution_count": 358,
   "metadata": {},
   "outputs": [],
   "source": [
    "def get_prediction_logistic(fitted_model, price, covariates):\n",
    "    #price = np.array(price).reshape(-1,1)\n",
    "    my_x = [[p, covariates[0], covariates[1]] for p in price]\n",
    "    prediction = fitted_model.predict_proba(my_x)\n",
    "    \n",
    "    prediction = pd.DataFrame(prediction)[1]\n",
    "    return prediction"
   ]
  },
  {
   "cell_type": "code",
   "execution_count": 359,
   "metadata": {},
   "outputs": [],
   "source": [
    "test_demand_curve_America_HighWealth = pd.read_csv('test_demand_America_HighWealth.csv')\n",
    "test_demand_curve_NotAmerica_HighWealth = pd.read_csv('test_demand_NotAmerica_HighWealth.csv')\n",
    "test_demand_curve_America_LowWealth = pd.read_csv('test_demand_America_LowWealth.csv')\n",
    "test_demand_curve_NotAmerica_LowWealth = pd.read_csv('test_demand_NotAmerica_LowWealth.csv')"
   ]
  },
  {
   "cell_type": "markdown",
   "metadata": {},
   "source": [
    "<font color='blue'> Fit a model and get the predictions for each of the prices in `prices_to_predict` using your above function and each unique covariate combination.\n",
    "\n",
    "For example, `test_demand_NotAmerica_LowWealth`, we got:\n",
    "\n",
    "Group Not America, Low Wealth: Optimal price 1.314070, Revenue 0.913284, True revenue 0.788442\n",
    "\n",
    "\n",
    "<font color='blue'> For each covariate combination, generate the same lineplot as in 1a and 1b (separately for each covariate combination). Also include the \"true\" test-time demand curve for the appropriate covariate combination \n"
   ]
  },
  {
   "cell_type": "code",
   "execution_count": 360,
   "metadata": {},
   "outputs": [
    {
     "data": {
      "text/plain": [
       "(1.2537688442211055, 0.7346870013657666)"
      ]
     },
     "execution_count": 360,
     "metadata": {},
     "output_type": "execute_result"
    }
   ],
   "source": [
    "# Not America Low Wealth points\n",
    "train = df_train.copy()\n",
    "model_log = fit_logistic_regression_demand_with_covariates(train)\n",
    "prediction_log_notA_lowW = get_prediction_logistic(model_log, prices_to_predict, [0,0])\n",
    "\n",
    "best_rev_log_notA_lowW = get_revenue_maximizing_price_and_revenue(prices_to_predict, prediction_log_notA_lowW)\n",
    "best_rev_log_notA_lowW"
   ]
  },
  {
   "cell_type": "code",
   "execution_count": 361,
   "metadata": {},
   "outputs": [
    {
     "name": "stdout",
     "output_type": "stream",
     "text": [
      "true revenue using logistic all price: 0.8059942569992822\n"
     ]
    }
   ],
   "source": [
    "# logistic all points\n",
    "price = best_rev_log_notA_lowW[0]\n",
    "true_best_rev = 0\n",
    "for i in range(len(test_demand_curve_NotAmerica_LowWealth)):\n",
    "    if price > test_demand_curve_NotAmerica_LowWealth['Price_bin_left'][i] and price <= test_demand_curve_NotAmerica_LowWealth['Price_bin_right'][i]:\n",
    "        true_best_rev = price*test_demand_curve_NotAmerica_LowWealth['Demand_at_price'][i]\n",
    "print('true revenue using logistic all price:', true_best_rev)"
   ]
  },
  {
   "cell_type": "code",
   "execution_count": 362,
   "metadata": {},
   "outputs": [
    {
     "data": {
      "text/html": [
       "<div>\n",
       "<style scoped>\n",
       "    .dataframe tbody tr th:only-of-type {\n",
       "        vertical-align: middle;\n",
       "    }\n",
       "\n",
       "    .dataframe tbody tr th {\n",
       "        vertical-align: top;\n",
       "    }\n",
       "\n",
       "    .dataframe thead th {\n",
       "        text-align: right;\n",
       "    }\n",
       "</style>\n",
       "<table border=\"1\" class=\"dataframe\">\n",
       "  <thead>\n",
       "    <tr style=\"text-align: right;\">\n",
       "      <th></th>\n",
       "      <th>Price_bin</th>\n",
       "      <th>Demand_at_price</th>\n",
       "      <th>Price_bin_left</th>\n",
       "      <th>Price_bin_right</th>\n",
       "      <th>Price_bin_mid</th>\n",
       "    </tr>\n",
       "  </thead>\n",
       "  <tbody>\n",
       "    <tr>\n",
       "      <th>0</th>\n",
       "      <td>(0.5, 0.53]</td>\n",
       "      <td>0.969231</td>\n",
       "      <td>0.500</td>\n",
       "      <td>0.530</td>\n",
       "      <td>0.5150</td>\n",
       "    </tr>\n",
       "    <tr>\n",
       "      <th>1</th>\n",
       "      <td>(0.53, 0.56]</td>\n",
       "      <td>0.926471</td>\n",
       "      <td>0.530</td>\n",
       "      <td>0.560</td>\n",
       "      <td>0.5450</td>\n",
       "    </tr>\n",
       "    <tr>\n",
       "      <th>2</th>\n",
       "      <td>(0.56, 0.59]</td>\n",
       "      <td>0.924528</td>\n",
       "      <td>0.560</td>\n",
       "      <td>0.590</td>\n",
       "      <td>0.5750</td>\n",
       "    </tr>\n",
       "    <tr>\n",
       "      <th>3</th>\n",
       "      <td>(0.59, 0.621]</td>\n",
       "      <td>0.906977</td>\n",
       "      <td>0.590</td>\n",
       "      <td>0.621</td>\n",
       "      <td>0.6055</td>\n",
       "    </tr>\n",
       "    <tr>\n",
       "      <th>4</th>\n",
       "      <td>(0.621, 0.651]</td>\n",
       "      <td>0.901408</td>\n",
       "      <td>0.621</td>\n",
       "      <td>0.651</td>\n",
       "      <td>0.6360</td>\n",
       "    </tr>\n",
       "  </tbody>\n",
       "</table>\n",
       "</div>"
      ],
      "text/plain": [
       "        Price_bin  Demand_at_price  Price_bin_left  Price_bin_right  \\\n",
       "0     (0.5, 0.53]         0.969231           0.500            0.530   \n",
       "1    (0.53, 0.56]         0.926471           0.530            0.560   \n",
       "2    (0.56, 0.59]         0.924528           0.560            0.590   \n",
       "3   (0.59, 0.621]         0.906977           0.590            0.621   \n",
       "4  (0.621, 0.651]         0.901408           0.621            0.651   \n",
       "\n",
       "   Price_bin_mid  \n",
       "0         0.5150  \n",
       "1         0.5450  \n",
       "2         0.5750  \n",
       "3         0.6055  \n",
       "4         0.6360  "
      ]
     },
     "execution_count": 362,
     "metadata": {},
     "output_type": "execute_result"
    }
   ],
   "source": [
    "test_demand_curve_NotAmerica_LowWealth.head()"
   ]
  },
  {
   "cell_type": "code",
   "execution_count": 363,
   "metadata": {},
   "outputs": [
    {
     "data": {
      "image/png": "[encoded data removed]",
      "text/plain": [
       "<Figure size 432x288 with 1 Axes>"
      ]
     },
     "metadata": {
      "needs_background": "light"
     },
     "output_type": "display_data"
    }
   ],
   "source": [
    "plt.plot(prices_to_predict, prediction_log_notA_lowW, color='red')\n",
    "plt.plot(test_demand_curve_NotAmerica_LowWealth['Price_bin_mid'], test_demand_curve_NotAmerica_LowWealth['Demand_at_price'])\n",
    "plt.xlabel('price')\n",
    "plt.ylabel('demand')\n",
    "plt.title('Not America Low Wealth')\n",
    "plt.show()"
   ]
  },
  {
   "cell_type": "code",
   "execution_count": 364,
   "metadata": {},
   "outputs": [
    {
     "name": "stdout",
     "output_type": "stream",
     "text": [
      "Group America, Low Wealth: Optimal price and Revenue are: (1.7060301507537687, 1.1685625179462906)\n",
      "true revenue using logistic all price: 1.0236180904522612\n"
     ]
    },
    {
     "data": {
      "image/png": "[encoded data removed]",
      "text/plain": [
       "<Figure size 432x288 with 1 Axes>"
      ]
     },
     "metadata": {
      "needs_background": "light"
     },
     "output_type": "display_data"
    }
   ],
   "source": [
    "# America Low Wealth points\n",
    "train = df_train.copy()\n",
    "model_log = fit_logistic_regression_demand_with_covariates(train)\n",
    "prediction_log_A_lowW = get_prediction_logistic(model_log, prices_to_predict, [1,0])\n",
    "\n",
    "best_rev_log_A_lowW = get_revenue_maximizing_price_and_revenue(prices_to_predict, prediction_log_A_lowW)\n",
    "print('Group America, Low Wealth: Optimal price and Revenue are:',best_rev_log_A_lowW)\n",
    "\n",
    "# logistic all points\n",
    "price = best_rev_log_A_lowW[0]\n",
    "true_best_rev = 0\n",
    "for i in range(len(test_demand_curve_America_LowWealth)):\n",
    "    if price > test_demand_curve_America_LowWealth['Price_bin_left'][i] and price <= test_demand_curve_America_LowWealth['Price_bin_right'][i]:\n",
    "        true_best_rev = price*test_demand_curve_America_LowWealth['Demand_at_price'][i]\n",
    "print('true revenue using logistic all price:', true_best_rev)\n",
    "\n",
    "plt.plot(prices_to_predict, prediction_log_A_lowW, color='red')\n",
    "plt.plot(test_demand_curve_America_LowWealth['Price_bin_mid'], test_demand_curve_America_LowWealth['Demand_at_price'])\n",
    "plt.xlabel('price')\n",
    "plt.ylabel('demand')\n",
    "plt.title('America Low Wealth')\n",
    "plt.show()"
   ]
  },
  {
   "cell_type": "code",
   "execution_count": 365,
   "metadata": {},
   "outputs": [
    {
     "name": "stdout",
     "output_type": "stream",
     "text": [
      "Group Not America, High Wealth: Optimal price and Revenue are: (2.42964824120603, 1.8972428666515946)\n",
      "true revenue using logistic all price: 1.8093125200470437\n"
     ]
    },
    {
     "data": {
      "image/png": "[encoded data removed]",
      "text/plain": [
       "<Figure size 432x288 with 1 Axes>"
      ]
     },
     "metadata": {
      "needs_background": "light"
     },
     "output_type": "display_data"
    }
   ],
   "source": [
    "# Not America High Wealth points\n",
    "train = df_train.copy()\n",
    "model_log = fit_logistic_regression_demand_with_covariates(train)\n",
    "prediction_log_notA_highW = get_prediction_logistic(model_log, prices_to_predict, [0,1])\n",
    "\n",
    "best_rev_log_notA_highW = get_revenue_maximizing_price_and_revenue(prices_to_predict, prediction_log_notA_highW)\n",
    "print('Group Not America, High Wealth: Optimal price and Revenue are:',best_rev_log_notA_highW)\n",
    "\n",
    "# logistic all points\n",
    "price = best_rev_log_notA_highW[0]\n",
    "true_best_rev = 0\n",
    "for i in range(len(test_demand_curve_NotAmerica_HighWealth)):\n",
    "    if price > test_demand_curve_NotAmerica_HighWealth['Price_bin_left'][i] and price <= test_demand_curve_NotAmerica_HighWealth['Price_bin_right'][i]:\n",
    "        true_best_rev = price*test_demand_curve_NotAmerica_HighWealth['Demand_at_price'][i]\n",
    "print('true revenue using logistic all price:', true_best_rev)\n",
    "\n",
    "plt.plot(prices_to_predict, prediction_log_notA_highW, color='red')\n",
    "plt.plot(test_demand_curve_NotAmerica_HighWealth['Price_bin_mid'], test_demand_curve_NotAmerica_HighWealth['Demand_at_price'])\n",
    "plt.xlabel('price')\n",
    "plt.ylabel('demand')\n",
    "plt.title('Not America High Wealth')\n",
    "plt.show()"
   ]
  },
  {
   "cell_type": "code",
   "execution_count": 366,
   "metadata": {},
   "outputs": [
    {
     "name": "stdout",
     "output_type": "stream",
     "text": [
      "Group America, High Wealth: Optimal price and Revenue are: (2.972361809045226, 2.442468257720609)\n",
      "true revenue using logistic all price: 2.1231155778894473\n"
     ]
    },
    {
     "data": {
      "image/png": "[encoded data removed]",
      "text/plain": [
       "<Figure size 432x288 with 1 Axes>"
      ]
     },
     "metadata": {
      "needs_background": "light"
     },
     "output_type": "display_data"
    }
   ],
   "source": [
    "# America High Wealth points\n",
    "train = df_train.copy()\n",
    "model_log = fit_logistic_regression_demand_with_covariates(train)\n",
    "prediction_log_A_highW = get_prediction_logistic(model_log, prices_to_predict, [1,1])\n",
    "\n",
    "best_rev_log_A_highW = get_revenue_maximizing_price_and_revenue(prices_to_predict, prediction_log_A_highW)\n",
    "print('Group America, High Wealth: Optimal price and Revenue are:',best_rev_log_A_highW)\n",
    "\n",
    "# logistic all points\n",
    "price = best_rev_log_A_highW[0]\n",
    "true_best_rev = 0\n",
    "for i in range(len(test_demand_curve_America_HighWealth)):\n",
    "    if price > test_demand_curve_America_HighWealth['Price_bin_left'][i] and price <= test_demand_curve_America_HighWealth['Price_bin_right'][i]:\n",
    "        true_best_rev = price*test_demand_curve_America_HighWealth['Demand_at_price'][i]\n",
    "print('true revenue using logistic all price:', true_best_rev)\n",
    "\n",
    "plt.plot(prices_to_predict, prediction_log_A_highW, color='red')\n",
    "plt.plot(test_demand_curve_America_HighWealth['Price_bin_mid'], test_demand_curve_America_HighWealth['Demand_at_price'])\n",
    "plt.xlabel('price')\n",
    "plt.ylabel('demand')\n",
    "plt.title('America High Wealth')\n",
    "plt.show()"
   ]
  },
  {
   "cell_type": "markdown",
   "metadata": {},
   "source": [
    "### 2b) Pricing"
   ]
  },
  {
   "cell_type": "markdown",
   "metadata": {},
   "source": [
    "<font color='blue'> Now, use your code from 1c to output predicted optimal prices, predicted revenue, and and actual revenue using the test data curve, for each covariate combination. "
   ]
  },
  {
   "cell_type": "code",
   "execution_count": 395,
   "metadata": {},
   "outputs": [
    {
     "name": "stdout",
     "output_type": "stream",
     "text": [
      "Group Not America, Low Wealth: Optimal price and Revenue are: (1.2537688442211055, 0.7346870013657666)\n",
      "true revenue using logistic all price: 0.8059942569992822\n"
     ]
    }
   ],
   "source": [
    "# Not America Low Wealth points\n",
    "train = df_train.copy()\n",
    "model_log = fit_logistic_regression_demand_with_covariates(train)\n",
    "prediction_log_notA_lowW = get_prediction_logistic(model_log, prices_to_predict, [0,0])\n",
    "\n",
    "best_rev_log_notA_lowW = get_revenue_maximizing_price_and_revenue(prices_to_predict, prediction_log_notA_lowW)\n",
    "print('Group Not America, Low Wealth: Optimal price and Revenue are:',best_rev_log_notA_lowW)\n",
    "\n",
    "# logistic all points\n",
    "price = best_rev_log_notA_lowW[0]\n",
    "true_best_rev0 = 0\n",
    "for i in range(len(test_demand_curve_NotAmerica_LowWealth)):\n",
    "    if price > test_demand_curve_NotAmerica_LowWealth['Price_bin_left'][i] and price <= test_demand_curve_NotAmerica_LowWealth['Price_bin_right'][i]:\n",
    "        true_best_rev0 = price*test_demand_curve_NotAmerica_LowWealth['Demand_at_price'][i]\n",
    "print('true revenue using logistic all price:', true_best_rev0)"
   ]
  },
  {
   "cell_type": "code",
   "execution_count": 389,
   "metadata": {},
   "outputs": [
    {
     "name": "stdout",
     "output_type": "stream",
     "text": [
      "Group America, Low Wealth: Optimal price and Revenue are: (1.7060301507537687, 1.1685625179462906)\n",
      "true revenue using logistic all price: 1.0236180904522612\n"
     ]
    }
   ],
   "source": [
    "# America Low Wealth points\n",
    "train = df_train.copy()\n",
    "model_log = fit_logistic_regression_demand_with_covariates(train)\n",
    "prediction_log_A_lowW = get_prediction_logistic(model_log, prices_to_predict, [1,0])\n",
    "\n",
    "best_rev_log_A_lowW = get_revenue_maximizing_price_and_revenue(prices_to_predict, prediction_log_A_lowW)\n",
    "print('Group America, Low Wealth: Optimal price and Revenue are:',best_rev_log_A_lowW)\n",
    "\n",
    "# logistic all points\n",
    "price = best_rev_log_A_lowW[0]\n",
    "true_best_rev1 = 0\n",
    "for i in range(len(test_demand_curve_America_LowWealth)):\n",
    "    if price > test_demand_curve_America_LowWealth['Price_bin_left'][i] and price <= test_demand_curve_America_LowWealth['Price_bin_right'][i]:\n",
    "        true_best_rev1 = price*test_demand_curve_America_LowWealth['Demand_at_price'][i]\n",
    "print('true revenue using logistic all price:', true_best_rev1)"
   ]
  },
  {
   "cell_type": "code",
   "execution_count": 390,
   "metadata": {},
   "outputs": [
    {
     "name": "stdout",
     "output_type": "stream",
     "text": [
      "Group Not America, High Wealth: Optimal price and Revenue are: (2.42964824120603, 1.8972428666515946)\n",
      "true revenue using logistic all price: 1.8093125200470437\n"
     ]
    }
   ],
   "source": [
    "# Not America High Wealth points\n",
    "train = df_train.copy()\n",
    "model_log = fit_logistic_regression_demand_with_covariates(train)\n",
    "prediction_log_notA_highW = get_prediction_logistic(model_log, prices_to_predict, [0,1])\n",
    "\n",
    "best_rev_log_notA_highW = get_revenue_maximizing_price_and_revenue(prices_to_predict, prediction_log_notA_highW)\n",
    "print('Group Not America, High Wealth: Optimal price and Revenue are:',best_rev_log_notA_highW)\n",
    "\n",
    "# logistic all points\n",
    "price = best_rev_log_notA_highW[0]\n",
    "true_best_rev2 = 0\n",
    "for i in range(len(test_demand_curve_NotAmerica_HighWealth)):\n",
    "    if price > test_demand_curve_NotAmerica_HighWealth['Price_bin_left'][i] and price <= test_demand_curve_NotAmerica_HighWealth['Price_bin_right'][i]:\n",
    "        true_best_rev2 = price*test_demand_curve_NotAmerica_HighWealth['Demand_at_price'][i]\n",
    "print('true revenue using logistic all price:', true_best_rev2)"
   ]
  },
  {
   "cell_type": "code",
   "execution_count": 391,
   "metadata": {},
   "outputs": [
    {
     "name": "stdout",
     "output_type": "stream",
     "text": [
      "Group America, High Wealth: Optimal price and Revenue are: (2.972361809045226, 2.442468257720609)\n",
      "true revenue using logistic all price: 2.1231155778894473\n"
     ]
    }
   ],
   "source": [
    "# America High Wealth points\n",
    "train = df_train.copy()\n",
    "model_log = fit_logistic_regression_demand_with_covariates(train)\n",
    "prediction_log_A_highW = get_prediction_logistic(model_log, prices_to_predict, [1,1])\n",
    "\n",
    "best_rev_log_A_highW = get_revenue_maximizing_price_and_revenue(prices_to_predict, prediction_log_A_highW)\n",
    "print('Group America, High Wealth: Optimal price and Revenue are:',best_rev_log_A_highW)\n",
    "\n",
    "# logistic all points\n",
    "price = best_rev_log_A_highW[0]\n",
    "true_best_rev3 = 0\n",
    "for i in range(len(test_demand_curve_America_HighWealth)):\n",
    "    if price > test_demand_curve_America_HighWealth['Price_bin_left'][i] and price <= test_demand_curve_America_HighWealth['Price_bin_right'][i]:\n",
    "        true_best_rev3 = price*test_demand_curve_America_HighWealth['Demand_at_price'][i]\n",
    "print('true revenue using logistic all price:', true_best_rev3)"
   ]
  },
  {
   "cell_type": "markdown",
   "metadata": {},
   "source": [
    "<font color='blue'> Suppose each of the 4 covariate combinations make up an equal part of the population. What would be the resulting revenue achieved at test time if you use the optimal price for each group (so you look at their covariates, and then give them the optimal price for that group)."
   ]
  },
  {
   "cell_type": "code",
   "execution_count": 394,
   "metadata": {},
   "outputs": [
    {
     "name": "stdout",
     "output_type": "stream",
     "text": [
      "Actual revenue is: 1.4405101113470087\n"
     ]
    }
   ],
   "source": [
    "actual_revenue = 1/4*(true_best_rev0+true_best_rev1+true_best_rev2+true_best_rev3)\n",
    "print('Actual revenue is:',actual_revenue)"
   ]
  },
  {
   "cell_type": "code",
   "execution_count": 392,
   "metadata": {},
   "outputs": [],
   "source": [
    "#test_demand_curve[100:150]"
   ]
  },
  {
   "cell_type": "markdown",
   "metadata": {},
   "source": [
    "<font color='blue'> Comment on your outputs in no more than 3 sentences. What is the effect of using different prices for differerent covariate groups?"
   ]
  },
  {
   "cell_type": "markdown",
   "metadata": {},
   "source": [
    "We can see that using different prices for differerent covariate groups, we get a higher test revenue compared to our models using simple naive and logistic regressions. Using different prices for differerent covariate groups will allow us to reach a higher revenue."
   ]
  },
  {
   "cell_type": "markdown",
   "metadata": {},
   "source": [
    "# Problem 3: Pricing under capacity constraints"
   ]
  },
  {
   "cell_type": "markdown",
   "metadata": {},
   "source": [
    "Now, we are going to build up to implementing the Bellman equation approach discussed in class, to price a single copy of an item to be sold over $T$ time periods. For simplicity, we will use `test_demand_curve` as $d(p)$. "
   ]
  },
  {
   "cell_type": "code",
   "execution_count": 271,
   "metadata": {},
   "outputs": [],
   "source": [
    "price_options = list(test_demand_curve.Price_bin_mid)\n",
    "demand_predictions = list(test_demand_curve.Demand_at_price)"
   ]
  },
  {
   "cell_type": "markdown",
   "metadata": {},
   "source": [
    "### 3a) Implementing one step of the Bellman equation\n",
    "\n",
    "Recall the \"Bellman equation\" taught in class. Suppose we have 1 copy of the item at time $t$. Then, my expected revenue given I price the item at $p_t$ is:\n",
    "$$ V_t = d(p_t)p_t + (1 - d(p_t))V_{t+1}$$\n",
    "\n",
    "<font color='blue'> Implement the following function that returns optimal price $p_t$ and the resulting value $V_t$, given the demand curve and $V_{t+1}$. \n",
    "\n",
    "For example, we find that the output of the following function call is: (2.083, 1.1922434210526316)\n",
    "\n",
    "`get_single_step_revenue_maximizing_price_and_revenue(0, price_options, demand_predictions)`"
   ]
  },
  {
   "cell_type": "code",
   "execution_count": 269,
   "metadata": {},
   "outputs": [],
   "source": [
    "def get_single_step_revenue_maximizing_price_and_revenue(Vtplus1, price_options, demand_predictions):\n",
    "    Vt = []\n",
    "    for i in range(len(price_options)):\n",
    "        vt = demand_predictions[i]*price_options[i]+(1-demand_predictions[i])*Vtplus1\n",
    "        Vt.append(vt)\n",
    "    max_index = np.argmax(Vt)\n",
    "    \n",
    "    return price_options[max_index], Vt[max_index]"
   ]
  },
  {
   "cell_type": "code",
   "execution_count": 272,
   "metadata": {},
   "outputs": [
    {
     "data": {
      "text/plain": [
       "(2.083, 1.1922434210526316)"
      ]
     },
     "execution_count": 272,
     "metadata": {},
     "output_type": "execute_result"
    }
   ],
   "source": [
    "get_single_step_revenue_maximizing_price_and_revenue(0, price_options, demand_predictions)"
   ]
  },
  {
   "cell_type": "markdown",
   "metadata": {},
   "source": [
    "### 3b) Calculating prices over time\n"
   ]
  },
  {
   "cell_type": "markdown",
   "metadata": {},
   "source": [
    "<font color='blue'> Implement the following function that returns a list (of length $T$) of optimal prices for each time period, and a expected revenue number for those prices.\n",
    "    \n",
    "Hint: your function should loop through each time step, _starting_ at time $t=T-1$ (the last time period, since the first time period is time $t=0$). Each iteration of the loop should call the function from part 3a. Recall that we can define $V_T = 0$, since even if the item is unsold at time $T$, we have finished trying to sell it."
   ]
  },
  {
   "cell_type": "code",
   "execution_count": 291,
   "metadata": {},
   "outputs": [],
   "source": [
    "def get_prices_over_time_and_expected_revenue(prices, demand_predictions, T):\n",
    "    T_lst = reversed(range(T))\n",
    "    vt = 0\n",
    "    prices = []\n",
    "    values = []\n",
    "    for i in range(T):\n",
    "        opt = get_single_step_revenue_maximizing_price_and_revenue(vt, price_options, demand_predictions)\n",
    "        prices.append(opt[0])\n",
    "        values.append(opt[1])\n",
    "        vt = opt[1]\n",
    "    prices.reverse()\n",
    "    \n",
    "    return prices, values"
   ]
  },
  {
   "cell_type": "code",
   "execution_count": 292,
   "metadata": {},
   "outputs": [],
   "source": [
    "prices = get_prices_over_time_and_expected_revenue(price_options, demand_predictions, 100)"
   ]
  },
  {
   "cell_type": "code",
   "execution_count": 295,
   "metadata": {},
   "outputs": [
    {
     "name": "stdout",
     "output_type": "stream",
     "text": [
      "5.822 4.224\n"
     ]
    }
   ],
   "source": [
    "print(prices[0][0],prices[0][90])"
   ]
  },
  {
   "cell_type": "code",
   "execution_count": 300,
   "metadata": {},
   "outputs": [
    {
     "name": "stdout",
     "output_type": "stream",
     "text": [
      "5.228684354819154\n"
     ]
    }
   ],
   "source": [
    "print(prices[1][99])"
   ]
  },
  {
   "cell_type": "markdown",
   "metadata": {},
   "source": [
    "<font color='blue'> Plot a line plot for your optimal prices over time when $T=100$ and $T=10$. Also print out the expected revenue using these prices and for each $T$. \n",
    "\n",
    "For example, when $T=100$, we find that prices[0] = 5.822, prices[90] = 4.224, and that revenue = 5.2287"
   ]
  },
  {
   "cell_type": "code",
   "execution_count": 330,
   "metadata": {},
   "outputs": [
    {
     "data": {
      "image/png": "[encoded data removed]",
      "text/plain": [
       "<Figure size 432x288 with 1 Axes>"
      ]
     },
     "metadata": {
      "needs_background": "light"
     },
     "output_type": "display_data"
    },
    {
     "name": "stdout",
     "output_type": "stream",
     "text": [
      "Revenue is 5.228684354819154\n"
     ]
    }
   ],
   "source": [
    "plt.plot(range(100),prices[0])\n",
    "plt.plot(range(100),prices[1])\n",
    "plt.show()\n",
    "print(\"Revenue is\", prices[1][99])"
   ]
  },
  {
   "cell_type": "code",
   "execution_count": 306,
   "metadata": {},
   "outputs": [],
   "source": [
    "prices_10 = get_prices_over_time_and_expected_revenue(price_options, demand_predictions, 10)"
   ]
  },
  {
   "cell_type": "code",
   "execution_count": 329,
   "metadata": {},
   "outputs": [
    {
     "data": {
      "image/png": "[encoded data removed]",
      "text/plain": [
       "<Figure size 432x288 with 1 Axes>"
      ]
     },
     "metadata": {
      "needs_background": "light"
     },
     "output_type": "display_data"
    },
    {
     "name": "stdout",
     "output_type": "stream",
     "text": [
      "Revenue is 3.1976788395450586\n"
     ]
    }
   ],
   "source": [
    "plt.plot(range(10),prices_10[0])\n",
    "plt.plot(range(10),prices_10[1])\n",
    "plt.show()\n",
    "print(\"Revenue is\", prices_10[1][9])"
   ]
  },
  {
   "cell_type": "markdown",
   "metadata": {},
   "source": [
    "### 3c) [Bonus, 3 points] Prices over time with multiple copies"
   ]
  },
  {
   "cell_type": "markdown",
   "metadata": {},
   "source": [
    "<font color='blue'> Now, suppose that you have $K$ copies of the item, that you must sell over a time period $T$. Implement the two-dimensional dynamic program as discussed in class. Plot a line plot where the X axis is time as in 3b, but now you have $K$ lines where each line indicates the price at time $T$ if you have $K$ items left. \n",
    "    \n",
    "Hint: As in 3a and 3b, you may find it useful to first optimize the price $p_{t,k}$ given the values $V_{t+1, k}$, $V_{t+1, k-1}$. Then, have a 2nd function that loops through $t, k$ in an appropriate order. "
   ]
  },
  {
   "cell_type": "code",
   "execution_count": null,
   "metadata": {},
   "outputs": [],
   "source": []
  }
 ],
 "metadata": {
  "kernelspec": {
   "display_name": "Python 3",
   "language": "python",
   "name": "python3"
  },
  "language_info": {
   "codemirror_mode": {
    "name": "ipython",
    "version": 3
   },
   "file_extension": ".py",
   "mimetype": "text/x-python",
   "name": "python",
   "nbconvert_exporter": "python",
   "pygments_lexer": "ipython3",
   "version": "3.8.8"
  },
  "varInspector": {
   "cols": {
    "lenName": 16,
    "lenType": 16,
    "lenVar": 40
   },
   "kernels_config": {
    "python": {
     "delete_cmd_postfix": "",
     "delete_cmd_prefix": "del ",
     "library": "var_list.py",
     "varRefreshCmd": "print(var_dic_list())"
    },
    "r": {
     "delete_cmd_postfix": ") ",
     "delete_cmd_prefix": "rm(",
     "library": "var_list.r",
     "varRefreshCmd": "cat(var_dic_list()) "
    }
   },
   "types_to_exclude": [
    "module",
    "function",
    "builtin_function_or_method",
    "instance",
    "_Feature"
   ],
   "window_display": false
  },
  "vscode": {
   "interpreter": {
    "hash": "86b87beda96b3c653a6f1f85daf818b906cc9f48777f5f800f5c61b34d573ffd"
   }
  }
 },
 "nbformat": 4,
 "nbformat_minor": 4
}
